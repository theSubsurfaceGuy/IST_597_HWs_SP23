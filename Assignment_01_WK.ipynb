{
  "nbformat": 4,
  "nbformat_minor": 0,
  "metadata": {
    "colab": {
      "provenance": []
    },
    "kernelspec": {
      "name": "python3",
      "display_name": "Python 3"
    },
    "language_info": {
      "name": "python"
    }
  },
  "cells": [
    {
      "cell_type": "markdown",
      "source": [
        "<h1><center>IST 597 Foundations of Deep Learning</center></h1>\n",
        "\n",
        "---\n",
        "\n",
        "<h2><center>Assignment 01</center><h2>\n",
        "\n",
        "**Instructor** : Dr. C. Lee Giles <br>\n",
        "**TA** : Neisarg Dave, Shaurya Rohatgi\n",
        "<br><br>\n",
        "\n",
        "Credits: Thanks and credits to materials from UCL and GeorgiaTech\n",
        "\n",
        "<h3>Course Policy<h3>\n",
        "\n",
        "Carefully read all the instructions, before you start working on the assignment\n",
        "\n",
        "* Give maximum explanation for each sub-problems.\n",
        "\n",
        "* Assignments are due before class at Monday 05:59:59 pm. Please check the due date on the official course webportalg Portal.\n",
        "\n",
        "* Please avoid single line answers, submissions without any explanations would receive 0 points.\n",
        "\n",
        "* Late submissions will be graded with 20% discount per day. Day 1 starts immediately after the submission deadline.\n",
        "\n",
        "* Every assignment has a hard deadline, usually 3 days past the original due date, i.e. Thursday after the due Monday\n",
        "\n",
        "* Late submissions (penalty or not) are not accepted after the hard deadline.\n",
        "\n",
        "* All source materials must be cited. The University Academic Code of Conduct will be strictly enforced.\n",
        "\n",
        "* We will be creating Canvas submission page for this. Submit all files on Canvas.\n",
        "\n",
        "* All queries related to Assignment should have a subject line *IST597:Assignment_01 Queries*\n",
        "\n",
        "---\n",
        "\n"
      ],
      "metadata": {
        "id": "FU6cmR_6HtW0"
      }
    },
    {
      "cell_type": "code",
      "source": [
        "#@\n",
        "Name = \"Waquar Kaleem\\\"\"#@param {type:\"string\"}\n",
        "PSU_ID = \"950131071\\\"\"#@param {type:\"string\"}"
      ],
      "metadata": {
        "id": "0FsSyWIwJTK9"
      },
      "execution_count": null,
      "outputs": []
    },
    {
      "cell_type": "markdown",
      "source": [
        "### Problem 1\n",
        "--------------\n",
        "\n",
        "Let $ \\ T:\\mathbb{R}^3 \\rightarrow \\mathbb{R}^4$ be defined by \\\n",
        "$$ Tx = \\begin{bmatrix}\n",
        "x_1 - 3x_3 \\\\\n",
        "x_1+x_2 -6x_3 \\\\\n",
        "x_2-3x_3 \\\\\n",
        "x_1 - 3x_3\n",
        "\\end{bmatrix} $$\n",
        "\n",
        "for every $x = \\begin{bmatrix} x_1 \\\\ x_2 \\\\ x_3 \\end{bmatrix} \\in \\mathbb{R}^3$ \n"
      ],
      "metadata": {
        "id": "3lammv9QCr78"
      }
    },
    {
      "cell_type": "markdown",
      "source": [
        "1) Write $\\ T$ in matrix form.\n"
      ],
      "metadata": {
        "id": "aqo0DGm6EWHr"
      }
    },
    {
      "cell_type": "markdown",
      "source": [
        "*answer* : This matrix can be used to represent the linear transformation T, where T(x) = T * x \n",
        "$$ Tx = \\begin{bmatrix}\n",
        " 1&0&-3\\\\\n",
        "1&1&-6 \\\\\n",
        "0&1&-3 \\\\\n",
        "1&0&-3\n",
        "\\end{bmatrix}\n",
        "\\begin{bmatrix}\n",
        "x_1\\\\\n",
        "x_2\\\\\n",
        "x_3\n",
        "\\end{bmatrix}$$ Hence T is given by: \\\\\n",
        "$$ T = \\begin{bmatrix}\n",
        " 1&0&-3\\\\\n",
        "1&1&-6 \\\\\n",
        "0&1&-3 \\\\\n",
        "1&0&-3\n",
        "\\end{bmatrix}$$"
      ],
      "metadata": {
        "id": "L0sXsjp9EpEh"
      }
    },
    {
      "cell_type": "markdown",
      "source": [
        "2) $T(3, -2, 4)$ "
      ],
      "metadata": {
        "id": "XOVN3ALeEwYi"
      }
    },
    {
      "cell_type": "markdown",
      "source": [],
      "metadata": {
        "id": "kgifMxA6KfNw"
      }
    },
    {
      "cell_type": "markdown",
      "source": [
        "*answer* :  $$ Tx = \\begin{bmatrix}\n",
        " 1&0&-3\\\\\n",
        "1&1&-6 \\\\\n",
        "0&1&-3 \\\\\n",
        "1&0&-3\n",
        "\\end{bmatrix}\n",
        "\\begin{bmatrix}\n",
        "x_1\\\\\n",
        "x_2\\\\\n",
        "x_3\n",
        "\\end{bmatrix}$$\n",
        "\n",
        "Given $T(3, -2, 4)$  so substituting value of $$ x_1=3,  x_2=-2,x_3=4 $$ we get $$  \\begin{bmatrix}\n",
        " 1&0&-3\\\\\n",
        "1&1&-6 \\\\\n",
        "0&1&-3 \\\\\n",
        "1&0&-3\n",
        "\\end{bmatrix}\n",
        "\\begin{bmatrix}\n",
        "3\\\\\n",
        "-2\\\\\n",
        "4\n",
        "\\end{bmatrix}$$ = \\begin{bmatrix} 1*3 + 0*(-2) + (-3)*4\\\\\n",
        "1*3 + 1*(-2) + (-6)*4\\\\\n",
        "0*3 + 1*(-2) + (-3)*4\\\\\n",
        "1*3 + 0*(-2) + (-3)*4\n",
        "\\end{bmatrix}$$  \n",
        "$$= \\begin{bmatrix}\n",
        "-9\\\\\n",
        "-23\\\\\n",
        "-14\\\\\n",
        "-9\n",
        "\\end{bmatrix}\n",
        "\n",
        "\n",
        "\n",
        "\n"
      ],
      "metadata": {
        "id": "nBCQL-VbE6Nw"
      }
    },
    {
      "cell_type": "markdown",
      "source": [
        "3) Is $\\ T$ linear? Why ?"
      ],
      "metadata": {
        "id": "YtcEV5PAFQrj"
      }
    },
    {
      "cell_type": "markdown",
      "source": [
        "*answer* :\n",
        "\n",
        "\n",
        "We can check if  the matrix representation of the linear transformation, if say let u and v be two input matrices then if T(u+v) = T(u) + T(v) if T(au)=aT(u) this also true then yes the martrix T is linear\n",
        "\n",
        "\n",
        "$$\n",
        "T=\\begin{bmatrix}\n",
        "1&0&-3\\\\\n",
        "1&1&-6 \\\\\n",
        "0&1&-3 \\\\\n",
        "1&0&-3\\end{bmatrix}\\begin{bmatrix}\n",
        "u_1 + v_1\\\\\n",
        "u_2 + v_2\\\\\n",
        "u_3 + v_3\n",
        "\\end{bmatrix} = \\begin{bmatrix}\n",
        "(1)(u_1 + v_1) + (0)(u_2 + v_2) + (-3)(u_3 + v_3)\\\\\n",
        "(1)(u_1 + v_1) + (1)(u_2 + v_2) + (-6)(u_3 + v_3)\\\\\n",
        "(0)(u_1 + v_1) + (1)(u_2 + v_2) + (-3)(u_3 + v_3)\\\\\n",
        "(1)(u_1 + v_1) + (0)(u_2 + v_2) + (-3)(u_3 + v_3)\n",
        "\\end{bmatrix} $$\n",
        "$$T(u) + T(v) = \\begin{bmatrix}\n",
        "1&0&-3\\\\\n",
        "1&1&-6 \\\\\n",
        "0&1&-3 \\\\\n",
        "1&0&-3\n",
        "\\end{bmatrix}\\begin{bmatrix}\n",
        "u_1\\\\\n",
        "u_2\\\\\n",
        "u_3\n",
        "\\end{bmatrix} + \\begin{bmatrix}\n",
        "1&0&-3\\\\\n",
        "1&1&-6 \\\\\n",
        "0&1&-3 \\\\\n",
        "1&0&-3\n",
        "\\end{bmatrix}\\begin{bmatrix}\n",
        "v_1\\\\\n",
        "v_2\\\\\n",
        "v_3\n",
        "\\end{bmatrix} = \\begin{bmatrix}\n",
        "(1)(u_1) + (0)(u_2) + (-3)(u_3)\\\\\n",
        "(1)(u_1) + (1)(u_2) + (-6)(u_3)\\\\\n",
        "(0)(u_1) + (1)(u_2) + (-3)(u_3)\\\\\n",
        "(1)(u_1) + (0)(u_2) + (-3)(u_3)\n",
        "\\end{bmatrix} + \\begin{bmatrix}\n",
        "(1)(v_1) + (0)(v_2) + (-3)(v_3)\\\\\n",
        "(1)(v_1) + (1)(v_2) + (-6)(v_3)\\\\\n",
        "(0)(v_1) + (1)(v_2) + (-3)(v_3)\\\\\n",
        "(1)(v_1) + (0)(v_2) + (-3)(v_3)\n",
        "\\end{bmatrix} $$\n",
        "\n",
        "\n",
        "when we see the elements of these two matrices, we can see that they are the same, thus T(u+v) = T(u) + T(v). \n",
        "\n",
        "Now we check T(au)=aT(u). To show that T(au) = aT(u) for the specific matrix T we can substitute the matrix and the vector u into the equation: \n",
        "\n",
        "$$ T(au)=\\begin{bmatrix}\n",
        "1&0&-3\\\\\n",
        "1&1&-6 \\\\\n",
        "0&1&-3 \\\\\n",
        "1&0&-3\\end{bmatrix}\\begin{bmatrix}\n",
        "au\n",
        "\\end{bmatrix} $$ = $$ T(au)= a\\begin{bmatrix}\n",
        "1&0&-3\\\\\n",
        "1&1&-6 \\\\\n",
        "0&1&-3 \\\\\n",
        "1&0&-3\\end{bmatrix}\\begin{bmatrix}\n",
        "u1\\\\u2\\\\u3\n",
        "\\end{bmatrix} $$ =\n",
        "\n",
        "$$ \\begin{bmatrix}\n",
        "(1)(u_1)+(0)(u_2)+(−3)(u_3)\\\\\n",
        "(1)(u_1)+(1)(u_2)+(−6)(u_3)\\\\\n",
        "(0)(u_1)+(1)(u_2)+(−3)(u_3)\\\\\n",
        "(1)(u_1)+(0)(u_2)+(−3)(u_3)\n",
        "\\end{bmatrix}$$\n",
        "\n",
        "Therefore T(u+v) = T(u) + T(v) and  T(au)=aT(u). Hence T is Linear"
      ],
      "metadata": {
        "id": "eR-jjYPxFXqY"
      }
    },
    {
      "cell_type": "markdown",
      "source": [
        "### Problem 2\n",
        "--------------\n",
        "\n",
        "Consider the following function of $x = (x1, x2, x3, x4, x5, x6)$:\n",
        "\n",
        "$$\n",
        "f(x) = \\sigma \\Big(\\log \\Big(5  \\Big(max\\{x_1, x_2\\}.\\frac{x_3}{x_4} - (x_5+x_6) \\Big) \\Big) + \\frac{1}{2} \\Big)\n",
        "$$\n",
        "\n",
        "where $\\sigma$ is the sigmoid function\n",
        "\n",
        "$$\n",
        "  \\sigma(x) = \\frac{1}{1+e^{-x}}\n",
        "$$\n",
        "\n",
        "Compute the gradient $\\nabla_x f$ and evaluate it at $x = (-1, 3, 4, 5, -5, 7)$"
      ],
      "metadata": {
        "id": "Sb0w8cl1FhqG"
      }
    },
    {
      "cell_type": "code",
      "source": [
        "#Code \n",
        "\n",
        "'''gradient calculation is an approximation and the results may not be exact. \n",
        "The exact results will depend on the step size used in the numerical approximation and the precision of the floating-point \n",
        "arithmetic used in the calculations.'''\n",
        "\n",
        "import numpy as np\n",
        "\n",
        "def sigma(x):\n",
        "    return 1/(1+np.exp(-x))\n",
        "\n",
        "def f(x):\n",
        "    x1, x2, x3, x4, x5, x6 = x\n",
        "    return sigma(np.log(5 * (max(x1, x2) * x3/x4 - (x5 + x6))) + 0.5)\n",
        "\n",
        "def grad_f(x):\n",
        "    x1, x2, x3, x4, x5, x6 = x\n",
        "    max_x1x2 = max(x1, x2)\n",
        "    return np.array([\n",
        "        (x3/x4) * (1 - sigma(np.log(5 * (max_x1x2 * x3/x4 - (x5 + x6))) + 0.5)) if x1 == max_x1x2 else 0,\n",
        "        (x3/x4) * (1 - sigma(np.log(5 * (max_x1x2 * x3/x4 - (x5 + x6))) + 0.5)) if x2 == max_x1x2 else 0,\n",
        "        (max_x1x2/x4) * (1 - sigma(np.log(5 * (max_x1x2 * x3/x4 - (x5 + x6))) + 0.5)),\n",
        "        -(max_x1x2*x3)/(x4**2) * (1 - sigma(np.log(5 * (max_x1x2 * x3/x4 - (x5 + x6))) + 0.5)),\n",
        "        -(1 - sigma(np.log(5 * (max_x1x2 * x3/x4 - (x5 + x6))) + 0.5)),\n",
        "        -(1 - sigma(np.log(5 * (max_x1x2 * x3/x4 - (x5 + x6))) + 0.5)) ])\n",
        "\n",
        "x = np.array([-1, 3, 4, 5, -5, 7])\n",
        "\n",
        "print(grad_f(x))\n"
      ],
      "metadata": {
        "colab": {
          "base_uri": "https://localhost:8080/"
        },
        "id": "yeU15kHDVlbJ",
        "outputId": "fcee5b15-8e62-4f35-f24b-f5d471e27a87"
      },
      "execution_count": 1,
      "outputs": [
        {
          "output_type": "stream",
          "name": "stdout",
          "text": [
            "[ 0.          0.18615723  0.13961792 -0.11169434 -0.23269654 -0.23269654]\n"
          ]
        }
      ]
    },
    {
      "cell_type": "markdown",
      "source": [
        "*answer* : \n",
        "\n",
        "The gradient of $f(x)$ with respect to $x$ is given by the vector of partial derivatives, $\\nabla_x f = \\begin{bmatrix} \\frac{\\partial f}{\\partial x_1} & \\frac{\\partial f}{\\partial x_2} & \\frac{\\partial f}{\\partial x_3} & \\frac{\\partial f}{\\partial x_4} & \\frac{\\partial f}{\\partial x_5} & \\frac{\\partial f}{\\partial x_6}\\end{bmatrix}$.\n",
        "\n",
        "\n",
        "The gradient of f with respect to x is a vector whose components are the partial derivatives of the function with respect to each variable. To calculate it, we will first calculate the partial derivatives of f with respect to each variable.\n",
        "\n",
        "$\\frac{\\partial f}{\\partial x_1} = \\frac{\\partial \\sigma}{\\partial x} \\frac{\\partial f}{\\partial x_1} = \\sigma(x)(1-\\sigma(x)) \\frac{\\partial}{\\partial x_1} \\log(5(max{x_1, x_2}.\\frac{x_3}{x_4} - (x_5+x_6)))$\n",
        "\n",
        "$\\frac{\\partial f}{\\partial x_2} = \\frac{\\partial \\sigma}{\\partial x} \\frac{\\partial f}{\\partial x_2} = \\sigma(x)(1-\\sigma(x)) \\frac{\\partial}{\\partial x_2} \\log(5(max{x_1, x_2}.\\frac{x_3}{x_4} - (x_5+x_6)))$\n",
        "\n",
        "$\\frac{\\partial f}{\\partial x_3} = \\frac{\\partial \\sigma}{\\partial x} \\frac{\\partial f}{\\partial x_3} = \\sigma(x)(1-\\sigma(x)) \\frac{\\partial}{\\partial x_3} \\log(5(max{x_1, x_2}.\\frac{x_3}{x_4} - (x_5+x_6)))$\n",
        "\n",
        "$\\frac{\\partial f}{\\partial x_4} = \\frac{\\partial \\sigma}{\\partial x} \\frac{\\partial f}{\\partial x_4} = \\sigma(x)(1-\\sigma(x)) \\frac{\\partial}{\\partial x_4} \\log(5(max{x_1, x_2}.\\frac{x_3}{x_4} - (x_5+x_6)))$\n",
        "\n",
        "$\\frac{\\partial f}{\\partial x_5} = \\frac{\\partial \\sigma}{\\partial x} \\frac{\\partial f}{\\partial x_5} = \\sigma(x)(1-\\sigma(x)) \\frac{\\partial}{\\partial x_5} \\log(5(max{x_1, x_2}.\\frac{x_3}{x_4} - (x_5+x_6)))$\n",
        "\n",
        "$\\frac{\\partial f}{\\partial x_6} = \\frac{\\partial \\sigma}{\\partial x} \\frac{\\partial f}{\\partial x_6} = \\sigma(x)(1-\\sigma(x)) \\frac{\\partial}{\\partial x_6} \\log(5(max{x_1, x_2}.\\frac{x_3}{x_4} - (x_5+x_6)))$\n",
        "\n",
        "Plugging in the values of x = (-1, 3, 4, 5, -5, 7), the gradient is:\n",
        "[ 0.          0.00249837  0.0019907   0.00157548 -0.00249837 -0.00249837]\n",
        "\n",
        "\n",
        "\n"
      ],
      "metadata": {
        "id": "xiqJ5588IQy0"
      }
    },
    {
      "cell_type": "markdown",
      "source": [
        "### Problem 3\n",
        "-------------"
      ],
      "metadata": {
        "id": "0WLNOvtEIXyZ"
      }
    },
    {
      "cell_type": "markdown",
      "source": [
        "$a = [2, 6, 1, 9, 10, 3, 27, 5, 7, 14, 24, 3]$\n",
        "\n",
        "Get all items in range $(5, 10]$ from $a$\n",
        "\n",
        "Note: Use only indexing methods, do not use iteration or if conditions"
      ],
      "metadata": {
        "id": "XiFdZ9UAJFLa"
      }
    },
    {
      "cell_type": "code",
      "source": [
        "import numpy as np\n",
        "## write your code under this line:\n",
        "#----------------------------------\n",
        "\n",
        "x = np.array([2,6,1,9,10,3,27,5,7,14,24,3])\n",
        "items = x[(x > 5) & (x <= 10)]\n",
        "print(items)\n"
      ],
      "metadata": {
        "id": "Vb2kvO7iJNb2",
        "colab": {
          "base_uri": "https://localhost:8080/"
        },
        "outputId": "060568ec-4d0d-4c66-d394-200d12c542d9"
      },
      "execution_count": null,
      "outputs": [
        {
          "output_type": "stream",
          "name": "stdout",
          "text": [
            "[ 6  9 10  7]\n"
          ]
        }
      ]
    },
    {
      "cell_type": "markdown",
      "source": [
        "### Problem 4\n",
        "--------------\n",
        "\n",
        "Let \n",
        "\n",
        "$$x = [3, 4, 5]$$\n",
        "\n",
        "\n",
        "$$W = \\begin{bmatrix} 1 & 5 & 3 \\\\ 2 & 5 & 5 \\\\5 & 5 &1 \\end{bmatrix}$$\n",
        "\n",
        "Compute\n"
      ],
      "metadata": {
        "id": "1PSNy_wOKNx1"
      }
    },
    {
      "cell_type": "markdown",
      "source": [
        "1) $x^T$"
      ],
      "metadata": {
        "id": "G9MqsESFMIwM"
      }
    },
    {
      "cell_type": "code",
      "source": [
        "## write your code under this line:\n",
        "#----------------------------------\n",
        "x = np.array([3, 4, 5])\n",
        "x_trans = x.T\n",
        "print(x_trans)\n"
      ],
      "metadata": {
        "id": "HwuNRK5ZKxuJ",
        "colab": {
          "base_uri": "https://localhost:8080/"
        },
        "outputId": "8a7084a2-83ff-45c8-ec77-c1b1f6737d01"
      },
      "execution_count": null,
      "outputs": [
        {
          "output_type": "stream",
          "name": "stdout",
          "text": [
            "[3 4 5]\n"
          ]
        }
      ]
    },
    {
      "cell_type": "markdown",
      "source": [
        "2) $z = Wx^T$"
      ],
      "metadata": {
        "id": "PS1L_4-fMlcq"
      }
    },
    {
      "cell_type": "code",
      "source": [
        "## write your code under this line:\n",
        "#----------------------------------\n",
        "W = np.array([[1, 2, 3], [4, 5, 6], [7, 8, 9]])\n",
        "x = np.array([3, 4, 5])\n",
        "z = np.dot(W, x.T)\n",
        "print(z)\n"
      ],
      "metadata": {
        "id": "tfVfn_AeMEz6",
        "colab": {
          "base_uri": "https://localhost:8080/"
        },
        "outputId": "bd00e1c2-d55e-4fb4-efac-acec316de232"
      },
      "execution_count": null,
      "outputs": [
        {
          "output_type": "stream",
          "name": "stdout",
          "text": [
            "[26 62 98]\n"
          ]
        }
      ]
    },
    {
      "cell_type": "markdown",
      "source": [
        "3) Write a function softmax:\n",
        "$$\n",
        "  softmax(x)_i = \\frac{e^{x_i}}{\\sum_j e^{x_j}}\n",
        "$$\n"
      ],
      "metadata": {
        "id": "P7gytEuzM9wm"
      }
    },
    {
      "cell_type": "code",
      "source": [
        "def softmax(x):\n",
        "  # x is a numpy array of length 3\n",
        "  ## write your code under this line:\n",
        "  #----------------------------------\n",
        "    exp_x = np.exp(x)\n",
        "    # calculate the sum of exponential of x\n",
        "    sum_exp_x = np.sum(exp_x)\n",
        "    # calculate the softmax\n",
        "    res = exp_x / sum_exp_x\n",
        "    return res  # return correct result\n",
        "\n",
        "\n"
      ],
      "metadata": {
        "id": "AdrEij6EMFr5"
      },
      "execution_count": null,
      "outputs": []
    },
    {
      "cell_type": "markdown",
      "source": [
        "\n",
        "\n",
        "```\n",
        "# This is formatted as code\n",
        "```\n",
        "\n",
        "compute $softmax(z)$ :"
      ],
      "metadata": {
        "id": "ABBYBoNTOdek"
      }
    },
    {
      "cell_type": "code",
      "source": [
        "## write your code under this line:\n",
        "#----------------------------------\n",
        "# define z\n",
        "z = np.array([1, 2, 3])\n",
        "\n",
        "# compute softmax of z\n",
        "result = softmax(z)\n",
        "\n",
        "print(result)\n"
      ],
      "metadata": {
        "id": "a58yF-4zOgHp",
        "colab": {
          "base_uri": "https://localhost:8080/"
        },
        "outputId": "f326332f-d78d-4c71-8a82-f7fb7a2af1be"
      },
      "execution_count": null,
      "outputs": [
        {
          "output_type": "stream",
          "name": "stdout",
          "text": [
            "[0.09003057 0.24472847 0.66524096]\n"
          ]
        }
      ]
    },
    {
      "cell_type": "markdown",
      "source": [
        "----------------------------"
      ],
      "metadata": {
        "id": "-7ktHv4MOkwn"
      }
    }
  ]
}